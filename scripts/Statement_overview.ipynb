{
 "cells": [
  {
   "cell_type": "markdown",
   "metadata": {},
   "source": [
    "# Overview of templates used to generate statements\n"
   ]
  },
  {
   "cell_type": "code",
   "execution_count": 17,
   "metadata": {},
   "outputs": [],
   "source": [
    "# load questions\n",
    "\n",
    "import csv\n",
    "from collections import defaultdict\n",
    "from random import shuffle\n",
    "import glob\n",
    "\n",
    "\n",
    "\n",
    "versions =  [\n",
    "            ('experiment1', '1'),\n",
    "            ('experiment1', '3'),\n",
    "             ('experiment2', '4'), \n",
    "             ('experiment3', '5_pilot'), \n",
    "             ('scalar_heat','5_scalar_heat')]\n",
    "\n",
    "sentence_version_dict = defaultdict(dict)\n",
    "run_prop_dict = defaultdict(set)\n",
    "\n",
    "for version in versions:\n",
    "    ex, run = version\n",
    "    paths = glob.glob(f'../data/clean/diagnostic_dataset/annotations_clean_contradictions_batch_0.5/run{run}-group_{ex}/*')\n",
    "    \n",
    "    for path in paths:\n",
    "        with open(path) as infile:\n",
    "            data = list(csv.DictReader(infile, delimiter=','))\n",
    "        for d in data:\n",
    "            relation = d['relation']\n",
    "            sentence = d['description']\n",
    "            if 'property' in d:\n",
    "                prop = d['property']\n",
    "            else:\n",
    "                prop = None\n",
    "            run_prop_dict[version].add(prop)\n",
    "            sentence_version_dict[relation][sentence] = version\n"
   ]
  },
  {
   "cell_type": "code",
   "execution_count": 13,
   "metadata": {},
   "outputs": [],
   "source": [
    "# find a specific example\n",
    "# import json\n",
    "\n",
    "# prop = 'wheels'\n",
    "# path = f'../data/aggregated/{prop}.json'\n",
    "\n",
    "# with open(path) as infile:\n",
    "#     prop_dict = json.load(infile)\n",
    "\n",
    "# for c, d in prop_dict.items():\n",
    "#     rels = d['relations']\n",
    "#     if 'variability_open' in rels:\n",
    "#         if rels['variability_open'] > 0.5:\n",
    "#             print(c)"
   ]
  },
  {
   "cell_type": "code",
   "execution_count": 15,
   "metadata": {},
   "outputs": [
    {
     "name": "stdout",
     "output_type": "stream",
     "text": [
      "('experiment1', '1')\n",
      "{'_check1', '_check4', '_check3', 'round', 'roll', 'red', '_check2'}\n",
      "\n",
      "('experiment1', '3')\n",
      "{'_check1', '_check4', '_test1', '_check3', 'round', 'roll', 'red', '_test4', '_test3', '_test2', '_check2'}\n",
      "\n",
      "('experiment2', '4')\n",
      "{'wheels', 'yellow', 'hot', 'lay_eggs', 'dangerous', '_check1', '_check4', '_test1', 'fly', 'made_of_wood', '_check3', '_test3', '_test4', 'square', 'sweet', '_test2', '_check2', 'black'}\n",
      "\n",
      "('experiment3', '5_pilot')\n",
      "{'wings', 'carry', 'green', 'bitter', 'grey', 'pink', 'liquid', 'blue', 'spicy', 'loud', 'used_in_cooking', 'brown', 'warm', 'white', 'build', 'swim', 'juicy'}\n",
      "\n",
      "('scalar_heat', '5_scalar_heat')\n",
      "{'carry', 'bitter', 'hot', 'pink', 'cold', 'liquid', 'spicy', 'loud', 'brown', 'warm', 'white', 'build'}\n",
      "\n"
     ]
    }
   ],
   "source": [
    "# properties and version\n",
    "\n",
    "for v, props in run_prop_dict.items():\n",
    "    print(v)\n",
    "    print(props)\n",
    "    print()"
   ]
  },
  {
   "cell_type": "code",
   "execution_count": 22,
   "metadata": {},
   "outputs": [
    {
     "name": "stdout",
     "output_type": "stream",
     "text": [
      "('experiment3', '5_pilot')\n",
      "Usually, (a/an) puppy cannot swim/be used for swimming, but there could be a highly unusual situation in which (a/an) puppy can swim.\n",
      "\n"
     ]
    }
   ],
   "source": [
    "relation = 'unusual'\n",
    "data_rel = list(sentence_version_dict[relation].items())\n",
    "\n",
    "shuffle(data_rel)\n",
    "\n",
    "targets = ['swim', 'puppy'] #, 'wheels'] #,\n",
    "\n",
    "stop = 60\n",
    "n = 0\n",
    "for sentence, version in data_rel:\n",
    "    #print(version)\n",
    "    #if 'lay_eggs' in sentence:\n",
    "    if all([t in sentence for t in targets]):\n",
    "        #if 'machine' in sentence:\n",
    "    #if version == ('experiment3', '1'):\n",
    "        print(version)\n",
    "        print(sentence)\n",
    "        print()\n",
    "        n+=1\n",
    "        if n == stop:\n",
    "            break"
   ]
  },
  {
   "cell_type": "code",
   "execution_count": null,
   "metadata": {},
   "outputs": [],
   "source": []
  }
 ],
 "metadata": {
  "kernelspec": {
   "display_name": "Python 3",
   "language": "python",
   "name": "python3"
  },
  "language_info": {
   "codemirror_mode": {
    "name": "ipython",
    "version": 3
   },
   "file_extension": ".py",
   "mimetype": "text/x-python",
   "name": "python",
   "nbconvert_exporter": "python",
   "pygments_lexer": "ipython3",
   "version": "3.8.3"
  }
 },
 "nbformat": 4,
 "nbformat_minor": 4
}
